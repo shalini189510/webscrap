{
 "cells": [
  {
   "cell_type": "code",
   "execution_count": null,
   "metadata": {},
   "outputs": [],
   "source": [
    "def scrap_image_url(strXpath):\n",
    "    \n",
    "    images = driver.find_elements_by_xpath(\".//div//span[@data-component-type='s-product-image']//img\")\n",
    "    \n",
    "    product_data = {}\n",
    "    product_data['image_urls'] = []\n",
    "    for image in images:\n",
    "        source = image.get_attribute('src')\n",
    "        product_data['image_urls'].append(source)\n",
    "    print('Returning scraped data ')\n",
    "\n",
    "    return product_data\n",
    "\n",
    "    driver.close()\n",
    "    "
   ]
  }
 ],
 "metadata": {
  "kernelspec": {
   "display_name": "Python 3",
   "language": "python",
   "name": "python3"
  },
  "language_info": {
   "codemirror_mode": {
    "name": "ipython",
    "version": 3
   },
   "file_extension": ".py",
   "mimetype": "text/x-python",
   "name": "python",
   "nbconvert_exporter": "python",
   "pygments_lexer": "ipython3",
   "version": "3.6.10"
  }
 },
 "nbformat": 4,
 "nbformat_minor": 4
}
